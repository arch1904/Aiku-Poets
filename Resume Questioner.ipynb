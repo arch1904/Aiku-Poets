{
 "cells": [
  {
   "cell_type": "markdown",
   "id": "a4f8dcd1",
   "metadata": {},
   "source": [
    "pip3 install openai"
   ]
  },
  {
   "cell_type": "markdown",
   "id": "4777db15",
   "metadata": {},
   "source": [
    "pip3 install streamlit"
   ]
  },
  {
   "cell_type": "markdown",
   "id": "37891e83",
   "metadata": {},
   "source": [
    "pip3 install pillow pytesseract pdf2image"
   ]
  },
  {
   "cell_type": "markdown",
   "id": "af61f462",
   "metadata": {},
   "source": [
    "brew install tesseract (MAC) OR sudo apt-get install tesseract-ocr (LINUX)"
   ]
  },
  {
   "cell_type": "markdown",
   "id": "a67f7929",
   "metadata": {},
   "source": [
    "brew install poppler or sudo apt-get install poppler-utils"
   ]
  },
  {
   "cell_type": "code",
   "execution_count": 5,
   "id": "ece50692",
   "metadata": {},
   "outputs": [],
   "source": [
    "import openai\n",
    "\n",
    "with open('OPEN_AI_KEY.txt') as f:\n",
    "    lines = f.readlines()\n",
    "openai.api_key = lines[0]\n",
    "model_engine = \"text-davinci-003\"\n",
    "max_tokens = 4096\n"
   ]
  },
  {
   "cell_type": "code",
   "execution_count": 26,
   "id": "f51017c7",
   "metadata": {},
   "outputs": [],
   "source": [
    "import platform\n",
    "from tempfile import TemporaryDirectory\n",
    "from pathlib import Path\n",
    " \n",
    "import pytesseract\n",
    "from pdf2image import convert_from_path\n",
    "from PIL import Image"
   ]
  },
  {
   "cell_type": "code",
   "execution_count": 27,
   "id": "4262a9dd",
   "metadata": {},
   "outputs": [],
   "source": [
    "def parse_img_pdf(resume_file):\n",
    "    PDF_file = Path(resume_file)\n",
    "    image_file_list = []\n",
    "    \n",
    "    with TemporaryDirectory() as tempdir: # Create a temporary directory to hold our temporary images.\n",
    "        pdf_dpi = 500\n",
    "        pdf_pages = convert_from_path(PDF_file, pdf_dpi) # Read in the PDF file at set DPI\n",
    "\n",
    "        for page_enumeration, page in enumerate(pdf_pages, start=1): # Iterate through all the pages stored above\n",
    "            # enumerate() \"counts\" the pages for us.\n",
    "            # Create a file name to store the image\n",
    "            filename = f\"{tempdir}\\page_{page_enumeration:03}.jpg\"\n",
    "\n",
    "            # Declaring filename for each page of PDF as JPG\n",
    "            # For each page, filename will be:\n",
    "            # PDF page 1 -> page_001.jpg\n",
    "            # Save the image of the page in system\n",
    "            page.save(filename, \"JPEG\")\n",
    "            image_file_list.append(filename)\n",
    "    resume_text = \"\"\n",
    "    for image_file in image_file_list:\n",
    "\n",
    "        text = str(((pytesseract.image_to_string(Image.open(image_file)))))\n",
    "\n",
    "        text = text.replace(\"-\\n\", \"\")\n",
    "        text= text.replace(\"\\n\\n\", \"----\")\n",
    "        resume_text += text\n",
    "    return resume_text\n",
    "\n",
    "    \n",
    "    "
   ]
  },
  {
   "cell_type": "code",
   "execution_count": 28,
   "id": "f1ec5744",
   "metadata": {},
   "outputs": [
    {
     "data": {
      "text/plain": [
       "\"ARCHIT GUPTA----@ E-mall: architgupta941@gmail.com \\\\ Phone: 217-402-4441 in linkedin.com/in/arch1904 % architgupta.me----EXPERIENCE----Riverbed Technologies----Software Engineering Internship----#3 May 2019 - Aug 2019 9 Champaign, IL----— Designed a more efficient bug-assignment and management system to assign the high priority tasks to the right\\nteam and generate relevant statistics to find areas to improve upon based on Django, JS and Jira APIs----— The project is on track to become the de facto pipeline for trend reporting and distilling customer experience to\\nuse as guidance in product development and lead to better coordination in terms of priorities between customer\\nfacing staff and engineering----PayPal Inc.----Software Engineering Internship\\n#3 May 2018 — Aug 2018 9 San Jose,CA\\n— Developed and designed a Real-Time Fraud Detection System for PayPal/Venmo-Mastercard Debit Cards by----consolidating data from multiple pipelines and identifying high risk merchant and customer accounts while\\ngenerating relevant statistics.----- Reduced turnaround time from 1-2 days to instantaneous for the complaint addressal by Customer Service\\nRepresentatives----Cisco Jasper----Software Engineering Internship\\n#3 Jun 2017 — Aug 2017 9 Santa Clara, CA----- Deployed an Lwm2m based scheduler to handle critical firmware and software over the air (FOTA/SOTA) updates\\nfor loT devices by setting priority by sleep cycle, criticality of update, connection strength, and the capability of the\\ndevice to perform those updates according to device statistics----- Made the update process more efficient by reducing number of device status requests required----— The Project was instrumental in companywide adoption of Lwm2m making it one of the early adopters for the\\nprotocol----Security Research Student Work Study----University of Illinois----#3 Jan 2019 — May 2019 9 Champaign, IL----— Created a proof of concept for Google Rapid Response integration for Security Incident Response at the\\nUniversity.\\nUnder-Secretary-General of Technology Operations----Model UN at the University of Illinois----#8 Sept 2017 — May 2019 9 Champaign, IL----- Maintain web site, Manage the registration process, to printing and tech support during the weekend of the\\nconference consisting of 400+ delegates every March.----Course Assistant / Project Manager----CS196 at the University of Illinois\\n#8 Aug 2017 — Dec 2017----- Mentored a group of 5 freshman students through a semester long project.----9 Champaign, IL----PROJECTS----Academic Journal Recommender\\nA recommendation system for academic articles with Prof. Deryugina----e Built a Flask-SQL-Neo4j based Web App\\ne Recommend articles to scientists based on similar topics, the similarity of abstracts or certain authors\\ne Helps researchers find articles and journals fitting a variety of crtieria and generates recommendations to speed up----the research process\\nRATtatouile\\nSecurity Lab Project: Remote Access Trojan----e Built a Linux based R.AT with multiple capabilities such as keylogger, reverse TCP shell, webcam and mic access\\nand logging----e All logs sent to command server periodically----Ask Eliza\\nAlexa Based Virtual Psychologist - BoilerMake----e Monitors bodily functions such as temperature and pulse using Intel Edison\\ne Provides personality analysis using the |BM Watson API, via Email----e Uses machine learning to predict sentiment of user’s voice input by correlating with temperature and pulse and\\npast conversations----© archi904----EDUCATION----BS in Computer Science +\\nAstronomy----University of Illinois\\nUrbana-Champaign----@8 Dec 2021----e Overall GPA: 3.6----e Dean's List Recognition: (Fall ('16, ‘17,\\n‘18), Spring(’17))----PROGRAMMING SKILLS----Python Java C C++\\nScheme OCaml C# = JavaScript\\nVerilog----FRAMEWORKS / TOOLS----MySQL Neo4j MongoDB\\nDjango Flask Docker Spring\\nAndroid Hadoop = Spark Git\\nSVN GRR Unix----EXTRACURRICULAR----Diploma Indian Classical Music\\nAllahbad Music University\\nQS 2014----e Specialisation in string instruments\\nand the Sarod.----Tech Help Sessions\\nOrganizer----e Fortnightly sessions at local\\ncommunity hall to help\\notherwise-untargeted seniors\\nintegrate technology in their lives.----HONORS AND AWARDS----World Scholars’ Cup\\nDebate, Writing and Quizzing----e Tournament of Champions at Yale\\ne World Debater Rank 11\\ne Team Debate Rank 15----Karate\\n1.K.F.1----e 1Gold (State)\\ne 2Silver (State, National)\\ne 2 Bronze (International)\\n\""
      ]
     },
     "execution_count": 28,
     "metadata": {},
     "output_type": "execute_result"
    }
   ],
   "source": [
    "parse_img_pdf(\"Resume.pdf\")"
   ]
  },
  {
   "cell_type": "code",
   "execution_count": null,
   "id": "c7aeed45",
   "metadata": {},
   "outputs": [],
   "source": []
  }
 ],
 "metadata": {
  "kernelspec": {
   "display_name": "Python 3 (ipykernel)",
   "language": "python",
   "name": "python3"
  },
  "language_info": {
   "codemirror_mode": {
    "name": "ipython",
    "version": 3
   },
   "file_extension": ".py",
   "mimetype": "text/x-python",
   "name": "python",
   "nbconvert_exporter": "python",
   "pygments_lexer": "ipython3",
   "version": "3.9.6"
  }
 },
 "nbformat": 4,
 "nbformat_minor": 5
}
